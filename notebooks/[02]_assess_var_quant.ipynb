{
 "cells": [
  {
   "cell_type": "code",
   "execution_count": 1,
   "metadata": {
    "collapsed": true
   },
   "outputs": [],
   "source": [
    "%load_ext autoreload\n",
    "%autoreload 2"
   ]
  },
  {
   "cell_type": "code",
   "execution_count": 2,
   "metadata": {
    "collapsed": true
   },
   "outputs": [],
   "source": [
    "import sys\n",
    "sys.path.append('../')\n",
    "import numpy as np\n",
    "from scipy.stats import ks_2samp"
   ]
  },
  {
   "cell_type": "code",
   "execution_count": 28,
   "metadata": {
    "collapsed": true
   },
   "outputs": [],
   "source": [
    "from assesssample import AssessVarQuant"
   ]
  },
  {
   "cell_type": "code",
   "execution_count": 3,
   "metadata": {
    "collapsed": true
   },
   "outputs": [],
   "source": [
    "x = np.random.normal(size=100)\n",
    "sample = np.random.normal(loc=1, size=50)"
   ]
  },
  {
   "cell_type": "code",
   "execution_count": 33,
   "metadata": {
    "collapsed": false
   },
   "outputs": [
    {
     "data": {
      "text/plain": [
       "array([-2.82991984,  1.17417035,  1.6515517 ,  0.68169849, -0.43633256,\n",
       "        0.69131153, -2.69899192,  0.73328896,  1.94040966, -1.39414739,\n",
       "       -0.84638785,  0.23578379, -2.02696313, -0.05007842, -0.82301484,\n",
       "        0.60564362,  0.35778404, -1.00301429,  0.33132248,  0.91489521,\n",
       "       -1.21773794, -1.35003744, -0.3803252 , -0.47723858,  0.80458893,\n",
       "       -0.56354362, -0.44245326,  0.2086552 , -1.56767267, -1.11319539,\n",
       "       -0.75251908, -0.30532658,  0.13962957, -1.38879737, -0.36869415,\n",
       "       -0.23893132,  1.82212507,  2.24875678, -0.45256624,  3.08263286,\n",
       "       -2.04158893,  0.28389643,  0.34995399, -0.12794829, -1.73176907,\n",
       "        0.55402506, -0.0278963 , -1.00573244,  0.69403693,  0.92338499,\n",
       "        0.04247006, -1.16725074,  0.09898859,  1.55460551,  0.931606  ,\n",
       "        0.1990677 ,  0.01859002,  0.7017637 , -1.22769434,  0.07413306,\n",
       "        0.28568497,  0.06184572, -0.79108461, -0.5237906 , -1.6983684 ,\n",
       "        0.23098035,  0.25833321, -0.0598486 , -1.28374213, -0.66661254,\n",
       "        0.71451891, -0.3507532 , -0.21051453, -2.86706224,  1.50838967,\n",
       "        0.08070375, -0.57405817,  0.93165299,  2.23667849, -0.36690574,\n",
       "        0.36395714, -0.45697441,  0.65852886,  1.17367648,  0.15031648,\n",
       "       -0.00918671, -0.14815375,  0.7484252 ,  2.13224601,  0.49105916,\n",
       "       -1.32411308, -0.12558985,  1.6862414 ,  0.58988467, -1.04881587,\n",
       "        1.1928156 , -0.63027608, -0.10521538,  0.90466037,  1.22779325])"
      ]
     },
     "execution_count": 33,
     "metadata": {},
     "output_type": "execute_result"
    }
   ],
   "source": [
    "x"
   ]
  },
  {
   "cell_type": "code",
   "execution_count": 34,
   "metadata": {
    "collapsed": false
   },
   "outputs": [
    {
     "data": {
      "text/plain": [
       "array([ 1.98458368,  1.22897571,  1.4328828 ,  1.69074792,  2.10167531,\n",
       "        0.04840399,  2.1144082 ,  1.94282632, -0.16313886,  1.65358132,\n",
       "        1.41155834,  0.5511495 ,  0.47065943,  0.92669783, -0.15328514,\n",
       "        2.3028377 ,  2.8104927 ,  1.29511344,  2.8501273 , -0.76528535,\n",
       "        0.07090746, -0.20779187,  0.9382775 ,  1.66128298,  0.50466159,\n",
       "        0.19092708,  1.83773906,  2.82319106,  0.86253472,  0.16711107,\n",
       "        0.04288426,  0.46137096,  2.09181067,  2.26423137,  2.41642692,\n",
       "        0.48875985,  0.36742194,  1.15611909,  1.91768425,  0.26907645,\n",
       "        0.19520347,  0.00482773, -0.56712005,  2.12950342,  3.08143309,\n",
       "        2.09882771,  1.02471695,  2.99756255,  1.37932405,  0.16186917])"
      ]
     },
     "execution_count": 34,
     "metadata": {},
     "output_type": "execute_result"
    }
   ],
   "source": [
    "sample"
   ]
  },
  {
   "cell_type": "code",
   "execution_count": 35,
   "metadata": {
    "collapsed": false
   },
   "outputs": [
    {
     "data": {
      "text/plain": [
       "Ks_2sampResult(statistic=0.42, pvalue=8.805408314769023e-06)"
      ]
     },
     "execution_count": 35,
     "metadata": {},
     "output_type": "execute_result"
    }
   ],
   "source": [
    "ks_2samp(sample, x)"
   ]
  },
  {
   "cell_type": "code",
   "execution_count": 27,
   "metadata": {
    "collapsed": false
   },
   "outputs": [
    {
     "data": {
      "text/plain": [
       "Ks_2sampResult(statistic=0.14666666666666672, pvalue=0.6684350290074773)"
      ]
     },
     "execution_count": 27,
     "metadata": {},
     "output_type": "execute_result"
    }
   ],
   "source": [
    "ks_2samp(x, x[np.random.randint(0,100, 30)])"
   ]
  },
  {
   "cell_type": "code",
   "execution_count": 31,
   "metadata": {
    "collapsed": true
   },
   "outputs": [],
   "source": [
    "varstat = AssessVarQuant(x[np.random.randint(0,100, 30)], x)"
   ]
  },
  {
   "cell_type": "code",
   "execution_count": 32,
   "metadata": {
    "collapsed": false
   },
   "outputs": [
    {
     "data": {
      "text/plain": [
       "0.612876229278865"
      ]
     },
     "execution_count": 32,
     "metadata": {},
     "output_type": "execute_result"
    }
   ],
   "source": [
    "varstat.evaluate()"
   ]
  },
  {
   "cell_type": "code",
   "execution_count": null,
   "metadata": {
    "collapsed": true
   },
   "outputs": [],
   "source": []
  }
 ],
 "metadata": {
  "kernelspec": {
   "display_name": "Python 3.6 (Data Repr)",
   "language": "python",
   "name": "venv"
  },
  "language_info": {
   "codemirror_mode": {
    "name": "ipython",
    "version": 3
   },
   "file_extension": ".py",
   "mimetype": "text/x-python",
   "name": "python",
   "nbconvert_exporter": "python",
   "pygments_lexer": "ipython3",
   "version": "3.6.3"
  }
 },
 "nbformat": 4,
 "nbformat_minor": 2
}
