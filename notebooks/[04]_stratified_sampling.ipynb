{
 "cells": [
  {
   "cell_type": "code",
   "execution_count": 4,
   "metadata": {},
   "outputs": [],
   "source": [
    "%load_ext autoreload\n",
    "%autoreload 2"
   ]
  },
  {
   "cell_type": "code",
   "execution_count": 5,
   "metadata": {},
   "outputs": [],
   "source": [
    "import sys\n",
    "sys.path.append('../')"
   ]
  },
  {
   "cell_type": "code",
   "execution_count": 6,
   "metadata": {},
   "outputs": [],
   "source": [
    "from assesssample import AssessVarCat, AssessVarCat, AssessCombVar"
   ]
  },
  {
   "cell_type": "code",
   "execution_count": 78,
   "metadata": {},
   "outputs": [],
   "source": [
    "import numpy as np\n",
    "import pandas as pd\n",
    "from collections import Counter"
   ]
  },
  {
   "cell_type": "code",
   "execution_count": 2,
   "metadata": {},
   "outputs": [],
   "source": [
    "data = pd.read_csv('../data/iris.csv')"
   ]
  },
  {
   "cell_type": "code",
   "execution_count": 3,
   "metadata": {},
   "outputs": [
    {
     "data": {
      "text/html": [
       "<div>\n",
       "<style scoped>\n",
       "    .dataframe tbody tr th:only-of-type {\n",
       "        vertical-align: middle;\n",
       "    }\n",
       "\n",
       "    .dataframe tbody tr th {\n",
       "        vertical-align: top;\n",
       "    }\n",
       "\n",
       "    .dataframe thead th {\n",
       "        text-align: right;\n",
       "    }\n",
       "</style>\n",
       "<table border=\"1\" class=\"dataframe\">\n",
       "  <thead>\n",
       "    <tr style=\"text-align: right;\">\n",
       "      <th></th>\n",
       "      <th>sepal_length</th>\n",
       "      <th>sepal_width</th>\n",
       "      <th>petal_length</th>\n",
       "      <th>petal_width</th>\n",
       "      <th>iris_class</th>\n",
       "    </tr>\n",
       "  </thead>\n",
       "  <tbody>\n",
       "    <tr>\n",
       "      <th>0</th>\n",
       "      <td>5.1</td>\n",
       "      <td>3.5</td>\n",
       "      <td>1.4</td>\n",
       "      <td>0.2</td>\n",
       "      <td>Iris-setosa</td>\n",
       "    </tr>\n",
       "    <tr>\n",
       "      <th>1</th>\n",
       "      <td>4.9</td>\n",
       "      <td>3.0</td>\n",
       "      <td>1.4</td>\n",
       "      <td>0.2</td>\n",
       "      <td>Iris-setosa</td>\n",
       "    </tr>\n",
       "    <tr>\n",
       "      <th>2</th>\n",
       "      <td>4.7</td>\n",
       "      <td>3.2</td>\n",
       "      <td>1.3</td>\n",
       "      <td>0.2</td>\n",
       "      <td>Iris-setosa</td>\n",
       "    </tr>\n",
       "    <tr>\n",
       "      <th>3</th>\n",
       "      <td>4.6</td>\n",
       "      <td>3.1</td>\n",
       "      <td>1.5</td>\n",
       "      <td>0.2</td>\n",
       "      <td>Iris-setosa</td>\n",
       "    </tr>\n",
       "    <tr>\n",
       "      <th>4</th>\n",
       "      <td>5.0</td>\n",
       "      <td>3.6</td>\n",
       "      <td>1.4</td>\n",
       "      <td>0.2</td>\n",
       "      <td>Iris-setosa</td>\n",
       "    </tr>\n",
       "  </tbody>\n",
       "</table>\n",
       "</div>"
      ],
      "text/plain": [
       "   sepal_length  sepal_width  petal_length  petal_width   iris_class\n",
       "0           5.1          3.5           1.4          0.2  Iris-setosa\n",
       "1           4.9          3.0           1.4          0.2  Iris-setosa\n",
       "2           4.7          3.2           1.3          0.2  Iris-setosa\n",
       "3           4.6          3.1           1.5          0.2  Iris-setosa\n",
       "4           5.0          3.6           1.4          0.2  Iris-setosa"
      ]
     },
     "execution_count": 3,
     "metadata": {},
     "output_type": "execute_result"
    }
   ],
   "source": [
    "data.head()"
   ]
  },
  {
   "cell_type": "markdown",
   "metadata": {},
   "source": [
    "## stratified sample\n",
    "* evaluate target class proportions\n",
    "* get random n_sample*proportion_classes\n",
    "* check combVar proba"
   ]
  },
  {
   "cell_type": "code",
   "execution_count": 8,
   "metadata": {},
   "outputs": [
    {
     "data": {
      "text/plain": [
       "{'Iris-setosa': 0.3333333333333333,\n",
       " 'Iris-versicolor': 0.3333333333333333,\n",
       " 'Iris-virginica': 0.3333333333333333}"
      ]
     },
     "execution_count": 8,
     "metadata": {},
     "output_type": "execute_result"
    }
   ],
   "source": [
    "class_prop = {x:len(data[data.iris_class == x])/len(data) for x in data.iris_class.unique()}\n",
    "class_prop"
   ]
  },
  {
   "cell_type": "code",
   "execution_count": 9,
   "metadata": {},
   "outputs": [],
   "source": [
    "n_samples = 20"
   ]
  },
  {
   "cell_type": "code",
   "execution_count": 10,
   "metadata": {},
   "outputs": [],
   "source": [
    "traget_prop = {k: round(v * n_samples) for k,v in class_prop.items()}"
   ]
  },
  {
   "cell_type": "code",
   "execution_count": 11,
   "metadata": {},
   "outputs": [
    {
     "data": {
      "text/plain": [
       "{'Iris-setosa': 7, 'Iris-versicolor': 7, 'Iris-virginica': 7}"
      ]
     },
     "execution_count": 11,
     "metadata": {},
     "output_type": "execute_result"
    }
   ],
   "source": [
    "traget_prop"
   ]
  },
  {
   "cell_type": "markdown",
   "metadata": {},
   "source": [
    "Sample according to the frequency distribution"
   ]
  },
  {
   "cell_type": "code",
   "execution_count": 84,
   "metadata": {},
   "outputs": [],
   "source": [
    "c = data[data.iris_class == 'Iris-setosa']"
   ]
  },
  {
   "cell_type": "code",
   "execution_count": 13,
   "metadata": {},
   "outputs": [
    {
     "data": {
      "text/plain": [
       "50"
      ]
     },
     "execution_count": 13,
     "metadata": {},
     "output_type": "execute_result"
    }
   ],
   "source": [
    "len(c)"
   ]
  },
  {
   "cell_type": "code",
   "execution_count": 17,
   "metadata": {},
   "outputs": [],
   "source": [
    "freq_bin, bin_edges = np.histogram(c.sepal_length, density=True)"
   ]
  },
  {
   "cell_type": "code",
   "execution_count": 31,
   "metadata": {},
   "outputs": [],
   "source": [
    "counts_bin = np.round(freq_bin/np.sum(freq_bin) * traget_prop['Iris-setosa'])"
   ]
  },
  {
   "cell_type": "code",
   "execution_count": 38,
   "metadata": {},
   "outputs": [
    {
     "data": {
      "text/plain": [
       "array([1., 0., 1., 1., 2., 1., 1., 1., 0., 0.])"
      ]
     },
     "execution_count": 38,
     "metadata": {},
     "output_type": "execute_result"
    }
   ],
   "source": [
    "counts_bin"
   ]
  },
  {
   "cell_type": "code",
   "execution_count": 32,
   "metadata": {},
   "outputs": [
    {
     "data": {
      "text/plain": [
       "array([4.3 , 4.45, 4.6 , 4.75, 4.9 , 5.05, 5.2 , 5.35, 5.5 , 5.65, 5.8 ])"
      ]
     },
     "execution_count": 32,
     "metadata": {},
     "output_type": "execute_result"
    }
   ],
   "source": [
    "bin_edges"
   ]
  },
  {
   "cell_type": "code",
   "execution_count": 54,
   "metadata": {},
   "outputs": [
    {
     "data": {
      "text/plain": [
       "array([[4.3 , 4.45, 4.6 , 4.75, 4.9 , 5.05, 5.2 , 5.35, 5.5 , 5.65],\n",
       "       [4.45, 4.6 , 4.75, 4.9 , 5.05, 5.2 , 5.35, 5.5 , 5.65, 5.8 ]])"
      ]
     },
     "execution_count": 54,
     "metadata": {},
     "output_type": "execute_result"
    }
   ],
   "source": [
    "bin_edges_windows = np.array([bin_edges[0:len(bin_edges)-1], bin_edges[1:len(bin_edges)]])\n",
    "bin_edges_windows"
   ]
  },
  {
   "cell_type": "code",
   "execution_count": 61,
   "metadata": {},
   "outputs": [
    {
     "data": {
      "text/plain": [
       "array([0, 2, 3, 4, 5, 6, 7])"
      ]
     },
     "execution_count": 61,
     "metadata": {},
     "output_type": "execute_result"
    }
   ],
   "source": [
    "np.arange(len(counts_bin))[counts_bin.astype(bool)]"
   ]
  },
  {
   "cell_type": "code",
   "execution_count": 69,
   "metadata": {},
   "outputs": [
    {
     "data": {
      "text/plain": [
       "array([1, 1, 1, 2, 1, 1, 1])"
      ]
     },
     "execution_count": 69,
     "metadata": {},
     "output_type": "execute_result"
    }
   ],
   "source": [
    "counts_bin[counts_bin.astype(bool)].astype(int)"
   ]
  },
  {
   "cell_type": "code",
   "execution_count": 71,
   "metadata": {},
   "outputs": [],
   "source": [
    "steps = np.repeat(np.arange(len(counts_bin))[counts_bin.astype(bool)], counts_bin[counts_bin.astype(bool)].astype(int))"
   ]
  },
  {
   "cell_type": "code",
   "execution_count": 77,
   "metadata": {},
   "outputs": [],
   "source": [
    "indexes = np.hstack([np.where((c.sepal_length > bin_edges_windows[0,i]) & (c.sepal_length <= bin_edges_windows[1,i])) for i in steps])"
   ]
  },
  {
   "cell_type": "code",
   "execution_count": 302,
   "metadata": {},
   "outputs": [],
   "source": [
    "def get_indices(column, n_samples):\n",
    "    \"\"\"get most probable indices samples according to the column values distribution\"\"\"\n",
    "    freq_bin, bin_edges = np.histogram(column, density=True)\n",
    "    # get the number of samples in each bins of the distribution\n",
    "    counts_bin = np.round(freq_bin/np.sum(freq_bin) * n_samples)\n",
    "    bin_edges_windows = np.array([bin_edges[0:len(bin_edges)-1], bin_edges[1:len(bin_edges)]])\n",
    "\n",
    "    steps = np.repeat(np.arange(len(counts_bin))[counts_bin > 0.], counts_bin[counts_bin > 0.].astype(int))\n",
    "    indexes = [column.index.where((column > bin_edges_windows[0,i]) & \n",
    "                                  (column <= bin_edges_windows[1,i])).tolist() for i in steps]\n",
    "\n",
    "    return [x for sublist in indexes for x in sublist if not np.isnan(x)]"
   ]
  },
  {
   "cell_type": "code",
   "execution_count": 303,
   "metadata": {},
   "outputs": [],
   "source": [
    "i_sl = get_indices(data[data['iris_class'] == 'Iris-versicolor'].sepal_length, n_samples)"
   ]
  },
  {
   "cell_type": "code",
   "execution_count": 304,
   "metadata": {
    "collapsed": true
   },
   "outputs": [
    {
     "data": {
      "text/plain": [
       "[60.0,\n",
       " 93.0,\n",
       " 98.0,\n",
       " 60.0,\n",
       " 93.0,\n",
       " 98.0,\n",
       " 53.0,\n",
       " 80.0,\n",
       " 81.0,\n",
       " 84.0,\n",
       " 89.0,\n",
       " 90.0,\n",
       " 53.0,\n",
       " 80.0,\n",
       " 81.0,\n",
       " 84.0,\n",
       " 89.0,\n",
       " 90.0,\n",
       " 55.0,\n",
       " 64.0,\n",
       " 66.0,\n",
       " 69.0,\n",
       " 79.0,\n",
       " 88.0,\n",
       " 94.0,\n",
       " 95.0,\n",
       " 96.0,\n",
       " 99.0,\n",
       " 55.0,\n",
       " 64.0,\n",
       " 66.0,\n",
       " 69.0,\n",
       " 79.0,\n",
       " 88.0,\n",
       " 94.0,\n",
       " 95.0,\n",
       " 96.0,\n",
       " 99.0,\n",
       " 55.0,\n",
       " 64.0,\n",
       " 66.0,\n",
       " 69.0,\n",
       " 79.0,\n",
       " 88.0,\n",
       " 94.0,\n",
       " 95.0,\n",
       " 96.0,\n",
       " 99.0,\n",
       " 55.0,\n",
       " 64.0,\n",
       " 66.0,\n",
       " 69.0,\n",
       " 79.0,\n",
       " 88.0,\n",
       " 94.0,\n",
       " 95.0,\n",
       " 96.0,\n",
       " 99.0,\n",
       " 61.0,\n",
       " 67.0,\n",
       " 70.0,\n",
       " 82.0,\n",
       " 92.0,\n",
       " 61.0,\n",
       " 67.0,\n",
       " 70.0,\n",
       " 82.0,\n",
       " 92.0,\n",
       " 62.0,\n",
       " 63.0,\n",
       " 71.0,\n",
       " 73.0,\n",
       " 78.0,\n",
       " 83.0,\n",
       " 85.0,\n",
       " 91.0,\n",
       " 62.0,\n",
       " 63.0,\n",
       " 71.0,\n",
       " 73.0,\n",
       " 78.0,\n",
       " 83.0,\n",
       " 85.0,\n",
       " 91.0,\n",
       " 62.0,\n",
       " 63.0,\n",
       " 71.0,\n",
       " 73.0,\n",
       " 78.0,\n",
       " 83.0,\n",
       " 85.0,\n",
       " 91.0,\n",
       " 56.0,\n",
       " 68.0,\n",
       " 72.0,\n",
       " 87.0,\n",
       " 97.0,\n",
       " 56.0,\n",
       " 68.0,\n",
       " 72.0,\n",
       " 87.0,\n",
       " 97.0,\n",
       " 51.0,\n",
       " 54.0,\n",
       " 74.0,\n",
       " 58.0,\n",
       " 65.0,\n",
       " 75.0,\n",
       " 77.0,\n",
       " 86.0,\n",
       " 58.0,\n",
       " 65.0,\n",
       " 75.0,\n",
       " 77.0,\n",
       " 86.0,\n",
       " 50.0,\n",
       " 52.0,\n",
       " 76.0]"
      ]
     },
     "execution_count": 304,
     "metadata": {},
     "output_type": "execute_result"
    }
   ],
   "source": [
    "i_sl"
   ]
  },
  {
   "cell_type": "code",
   "execution_count": 261,
   "metadata": {},
   "outputs": [
    {
     "data": {
      "text/plain": [
       "(array([ 0,  1,  2,  3,  4,  5,  6,  7,  8,  9, 10, 11, 12, 13, 14, 15, 16,\n",
       "        17, 18, 19, 20, 21, 22, 23, 24, 25, 26, 27, 28, 29, 30, 31, 32, 33,\n",
       "        34, 35, 36, 37, 38, 39, 40, 41, 42, 43, 44, 45, 46, 47, 48, 49]),)"
      ]
     },
     "execution_count": 261,
     "metadata": {},
     "output_type": "execute_result"
    }
   ],
   "source": [
    "np.where((data[data['iris_class'] == 'Iris-versicolor'].sepal_length > 4))"
   ]
  },
  {
   "cell_type": "code",
   "execution_count": 282,
   "metadata": {
    "collapsed": true
   },
   "outputs": [
    {
     "data": {
      "text/plain": [
       "[50,\n",
       " 51,\n",
       " 52,\n",
       " 53,\n",
       " 54,\n",
       " 55,\n",
       " 56,\n",
       " 57,\n",
       " 58,\n",
       " 59,\n",
       " 60,\n",
       " 61,\n",
       " 62,\n",
       " 63,\n",
       " 64,\n",
       " 65,\n",
       " 66,\n",
       " 67,\n",
       " 68,\n",
       " 69,\n",
       " 70,\n",
       " 71,\n",
       " 72,\n",
       " 73,\n",
       " 74,\n",
       " 75,\n",
       " 76,\n",
       " 77,\n",
       " 78,\n",
       " 79,\n",
       " 80,\n",
       " 81,\n",
       " 82,\n",
       " 83,\n",
       " 84,\n",
       " 85,\n",
       " 86,\n",
       " 87,\n",
       " 88,\n",
       " 89,\n",
       " 90,\n",
       " 91,\n",
       " 92,\n",
       " 93,\n",
       " 94,\n",
       " 95,\n",
       " 96,\n",
       " 97,\n",
       " 98,\n",
       " 99]"
      ]
     },
     "execution_count": 282,
     "metadata": {},
     "output_type": "execute_result"
    }
   ],
   "source": [
    "data[data['iris_class'] == 'Iris-versicolor'].sepal_length.index.where(data[data['iris_class'] == 'Iris-versicolor'].sepal_length >4).tolist()"
   ]
  },
  {
   "cell_type": "code",
   "execution_count": 184,
   "metadata": {},
   "outputs": [],
   "source": [
    "i_sw = get_indices(c.sepal_width, n_samples)"
   ]
  },
  {
   "cell_type": "code",
   "execution_count": 185,
   "metadata": {},
   "outputs": [
    {
     "data": {
      "text/plain": [
       "array([ 1,  3,  9, 12, 13, 25, 30, 34, 37, 38, 45,  1,  3,  9, 12, 13, 25,\n",
       "       30, 34, 37, 38, 45,  1,  3,  9, 12, 13, 25, 30, 34, 37, 38, 45,  1,\n",
       "        3,  9, 12, 13, 25, 30, 34, 37, 38, 45,  2, 23, 29, 35, 42, 47, 49,\n",
       "        2, 23, 29, 35, 42, 47, 49,  2, 23, 29, 35, 42, 47, 49,  0,  6,  7,\n",
       "       11, 17, 20, 24, 26, 27, 28, 31, 36, 39, 40, 43,  0,  6,  7, 11, 17,\n",
       "       20, 24, 26, 27, 28, 31, 36, 39, 40, 43,  0,  6,  7, 11, 17, 20, 24,\n",
       "       26, 27, 28, 31, 36, 39, 40, 43,  0,  6,  7, 11, 17, 20, 24, 26, 27,\n",
       "       28, 31, 36, 39, 40, 43,  0,  6,  7, 11, 17, 20, 24, 26, 27, 28, 31,\n",
       "       36, 39, 40, 43,  0,  6,  7, 11, 17, 20, 24, 26, 27, 28, 31, 36, 39,\n",
       "       40, 43,  4, 10, 21, 22, 48,  4, 10, 21, 22, 48,  5, 16, 18, 19, 44,\n",
       "       46,  5, 16, 18, 19, 44, 46, 14, 32, 15, 33])"
      ]
     },
     "execution_count": 185,
     "metadata": {},
     "output_type": "execute_result"
    }
   ],
   "source": [
    "i_sw"
   ]
  },
  {
   "cell_type": "code",
   "execution_count": 151,
   "metadata": {},
   "outputs": [],
   "source": [
    "indices = np.hstack([get_indices(c[x], n_samples) for x in ['sepal_length', 'sepal_width', 'petal_length', 'petal_width']])"
   ]
  },
  {
   "cell_type": "code",
   "execution_count": 152,
   "metadata": {},
   "outputs": [],
   "source": [
    "sample_choices = []\n",
    "while len(sample_choices) < traget_prop['Iris-setosa']:\n",
    "    x = np.random.choice(indices, size=1)[0]\n",
    "    if x not in sample_choices:\n",
    "        sample_choices.append(x)"
   ]
  },
  {
   "cell_type": "code",
   "execution_count": 153,
   "metadata": {},
   "outputs": [
    {
     "data": {
      "text/plain": [
       "[27, 26, 34, 3, 32, 19, 0]"
      ]
     },
     "execution_count": 153,
     "metadata": {},
     "output_type": "execute_result"
    }
   ],
   "source": [
    "sample_choices"
   ]
  },
  {
   "cell_type": "code",
   "execution_count": 154,
   "metadata": {},
   "outputs": [
    {
     "data": {
      "text/html": [
       "<div>\n",
       "<style scoped>\n",
       "    .dataframe tbody tr th:only-of-type {\n",
       "        vertical-align: middle;\n",
       "    }\n",
       "\n",
       "    .dataframe tbody tr th {\n",
       "        vertical-align: top;\n",
       "    }\n",
       "\n",
       "    .dataframe thead th {\n",
       "        text-align: right;\n",
       "    }\n",
       "</style>\n",
       "<table border=\"1\" class=\"dataframe\">\n",
       "  <thead>\n",
       "    <tr style=\"text-align: right;\">\n",
       "      <th></th>\n",
       "      <th>sepal_length</th>\n",
       "      <th>sepal_width</th>\n",
       "      <th>petal_length</th>\n",
       "      <th>petal_width</th>\n",
       "      <th>iris_class</th>\n",
       "    </tr>\n",
       "  </thead>\n",
       "  <tbody>\n",
       "    <tr>\n",
       "      <th>27</th>\n",
       "      <td>5.2</td>\n",
       "      <td>3.5</td>\n",
       "      <td>1.5</td>\n",
       "      <td>0.2</td>\n",
       "      <td>Iris-setosa</td>\n",
       "    </tr>\n",
       "    <tr>\n",
       "      <th>26</th>\n",
       "      <td>5.0</td>\n",
       "      <td>3.4</td>\n",
       "      <td>1.6</td>\n",
       "      <td>0.4</td>\n",
       "      <td>Iris-setosa</td>\n",
       "    </tr>\n",
       "    <tr>\n",
       "      <th>34</th>\n",
       "      <td>4.9</td>\n",
       "      <td>3.1</td>\n",
       "      <td>1.5</td>\n",
       "      <td>0.1</td>\n",
       "      <td>Iris-setosa</td>\n",
       "    </tr>\n",
       "    <tr>\n",
       "      <th>3</th>\n",
       "      <td>4.6</td>\n",
       "      <td>3.1</td>\n",
       "      <td>1.5</td>\n",
       "      <td>0.2</td>\n",
       "      <td>Iris-setosa</td>\n",
       "    </tr>\n",
       "    <tr>\n",
       "      <th>32</th>\n",
       "      <td>5.2</td>\n",
       "      <td>4.1</td>\n",
       "      <td>1.5</td>\n",
       "      <td>0.1</td>\n",
       "      <td>Iris-setosa</td>\n",
       "    </tr>\n",
       "    <tr>\n",
       "      <th>19</th>\n",
       "      <td>5.1</td>\n",
       "      <td>3.8</td>\n",
       "      <td>1.5</td>\n",
       "      <td>0.3</td>\n",
       "      <td>Iris-setosa</td>\n",
       "    </tr>\n",
       "    <tr>\n",
       "      <th>0</th>\n",
       "      <td>5.1</td>\n",
       "      <td>3.5</td>\n",
       "      <td>1.4</td>\n",
       "      <td>0.2</td>\n",
       "      <td>Iris-setosa</td>\n",
       "    </tr>\n",
       "  </tbody>\n",
       "</table>\n",
       "</div>"
      ],
      "text/plain": [
       "    sepal_length  sepal_width  petal_length  petal_width   iris_class\n",
       "27           5.2          3.5           1.5          0.2  Iris-setosa\n",
       "26           5.0          3.4           1.6          0.4  Iris-setosa\n",
       "34           4.9          3.1           1.5          0.1  Iris-setosa\n",
       "3            4.6          3.1           1.5          0.2  Iris-setosa\n",
       "32           5.2          4.1           1.5          0.1  Iris-setosa\n",
       "19           5.1          3.8           1.5          0.3  Iris-setosa\n",
       "0            5.1          3.5           1.4          0.2  Iris-setosa"
      ]
     },
     "execution_count": 154,
     "metadata": {},
     "output_type": "execute_result"
    }
   ],
   "source": [
    "data.iloc[sample_choices,:]"
   ]
  },
  {
   "cell_type": "code",
   "execution_count": 129,
   "metadata": {},
   "outputs": [],
   "source": [
    "cols = list(data.columns)"
   ]
  },
  {
   "cell_type": "code",
   "execution_count": 131,
   "metadata": {},
   "outputs": [],
   "source": [
    "cols.remove('iris_class')"
   ]
  },
  {
   "cell_type": "code",
   "execution_count": 132,
   "metadata": {},
   "outputs": [
    {
     "data": {
      "text/plain": [
       "['sepal_length', 'sepal_width', 'petal_length', 'petal_width']"
      ]
     },
     "execution_count": 132,
     "metadata": {},
     "output_type": "execute_result"
    }
   ],
   "source": [
    "cols"
   ]
  },
  {
   "cell_type": "code",
   "execution_count": 202,
   "metadata": {},
   "outputs": [
    {
     "name": "stdout",
     "output_type": "stream",
     "text": [
      "   sepal_length  sepal_width  petal_length  petal_width   iris_class\n",
      "0           5.1          3.5           1.4          0.2  Iris-setosa\n",
      "1           4.9          3.0           1.4          0.2  Iris-setosa\n",
      "2           4.7          3.2           1.3          0.2  Iris-setosa\n",
      "3           4.6          3.1           1.5          0.2  Iris-setosa\n",
      "4           5.0          3.6           1.4          0.2  Iris-setosa\n",
      "    sepal_length  sepal_width  petal_length  petal_width       iris_class\n",
      "50           7.0          3.2           4.7          1.4  Iris-versicolor\n",
      "51           6.4          3.2           4.5          1.5  Iris-versicolor\n",
      "52           6.9          3.1           4.9          1.5  Iris-versicolor\n",
      "53           5.5          2.3           4.0          1.3  Iris-versicolor\n",
      "54           6.5          2.8           4.6          1.5  Iris-versicolor\n",
      "     sepal_length  sepal_width  petal_length  petal_width      iris_class\n",
      "100           6.3          3.3           6.0          2.5  Iris-virginica\n",
      "101           5.8          2.7           5.1          1.9  Iris-virginica\n",
      "102           7.1          3.0           5.9          2.1  Iris-virginica\n",
      "103           6.3          2.9           5.6          1.8  Iris-virginica\n",
      "104           6.5          3.0           5.8          2.2  Iris-virginica\n"
     ]
    }
   ],
   "source": [
    "for k,v in traget_prop.items():\n",
    "    print(data[data['iris_class'] == k].head())"
   ]
  },
  {
   "cell_type": "code",
   "execution_count": 305,
   "metadata": {},
   "outputs": [],
   "source": [
    "# for each class\n",
    "def stratified_sample(data, n_samples, target_col):\n",
    "    sample_idx = []\n",
    "    cols = list(data.columns)\n",
    "    cols.remove(target_col)\n",
    "    class_prop = {x:len(data[data[target_col] == x])/len(data) for x in data[target_col].unique()}\n",
    "    target_prop = {k: round(v * n_samples) for k,v in class_prop.items()}\n",
    "    \n",
    "    for k,v in target_prop.items():\n",
    "        \n",
    "        data_stratum = data[data[target_col] == k]\n",
    "        \n",
    "        indices = np.hstack([get_indices(data_stratum[x], v) for x in cols])\n",
    "        sample_choices = []\n",
    "        while len(sample_choices) < v:\n",
    "            x = np.random.choice(indices, size=1)[0]\n",
    "            if x not in sample_choices:\n",
    "                sample_choices.append(x)\n",
    "        \n",
    "        sample_idx.extend(sample_choices)\n",
    "    return sample_idx"
   ]
  },
  {
   "cell_type": "code",
   "execution_count": 358,
   "metadata": {},
   "outputs": [
    {
     "data": {
      "text/plain": [
       "[17.0, 39.0, 53.0, 88.0, 139.0, 141.0]"
      ]
     },
     "execution_count": 358,
     "metadata": {},
     "output_type": "execute_result"
    }
   ],
   "source": [
    "idx = stratified_sample(data, 5, 'iris_class')\n",
    "idx"
   ]
  },
  {
   "cell_type": "code",
   "execution_count": 397,
   "metadata": {},
   "outputs": [
    {
     "data": {
      "text/plain": [
       "0.999978575154218"
      ]
     },
     "execution_count": 397,
     "metadata": {},
     "output_type": "execute_result"
    }
   ],
   "source": [
    "AssessCombVar(data.iloc[idx,:], data, 'iris_class').evaluate()"
   ]
  },
  {
   "cell_type": "code",
   "execution_count": 388,
   "metadata": {},
   "outputs": [
    {
     "data": {
      "text/plain": [
       "0.9915566165778669"
      ]
     },
     "execution_count": 388,
     "metadata": {},
     "output_type": "execute_result"
    }
   ],
   "source": [
    "AssessCombVar(data.sample(20), data, 'iris_class').evaluate()"
   ]
  },
  {
   "cell_type": "code",
   "execution_count": 360,
   "metadata": {},
   "outputs": [
    {
     "data": {
      "text/plain": [
       "1.0"
      ]
     },
     "execution_count": 360,
     "metadata": {},
     "output_type": "execute_result"
    }
   ],
   "source": [
    "AssessCombVar(data.iloc[idx,:], data, 'iris_class').evaluate()"
   ]
  },
  {
   "cell_type": "code",
   "execution_count": 375,
   "metadata": {},
   "outputs": [
    {
     "data": {
      "text/plain": [
       "1.0"
      ]
     },
     "execution_count": 375,
     "metadata": {},
     "output_type": "execute_result"
    }
   ],
   "source": [
    "AssessCombVar(data[~data.index.isin(idx)], data, 'iris_class').evaluate()"
   ]
  },
  {
   "cell_type": "code",
   "execution_count": null,
   "metadata": {},
   "outputs": [],
   "source": []
  }
 ],
 "metadata": {
  "kernelspec": {
   "display_name": "Python 3.6 (Data_Repr)",
   "language": "python",
   "name": "venv"
  },
  "language_info": {
   "codemirror_mode": {
    "name": "ipython",
    "version": 3
   },
   "file_extension": ".py",
   "mimetype": "text/x-python",
   "name": "python",
   "nbconvert_exporter": "python",
   "pygments_lexer": "ipython3",
   "version": "3.6.5"
  }
 },
 "nbformat": 4,
 "nbformat_minor": 2
}
