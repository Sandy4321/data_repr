{
 "cells": [
  {
   "cell_type": "code",
   "execution_count": 1,
   "metadata": {
    "collapsed": true,
    "deletable": true,
    "editable": true
   },
   "outputs": [],
   "source": [
    "import numpy as np\n",
    "import random\n",
    "import pandas as pd"
   ]
  },
  {
   "cell_type": "code",
   "execution_count": 2,
   "metadata": {
    "collapsed": true,
    "deletable": true,
    "editable": true
   },
   "outputs": [],
   "source": [
    "import sys\n",
    "sys.path.append('../')"
   ]
  },
  {
   "cell_type": "code",
   "execution_count": 3,
   "metadata": {
    "collapsed": true,
    "deletable": true,
    "editable": true
   },
   "outputs": [],
   "source": [
    "from assesssample import AssessVarQuant"
   ]
  },
  {
   "cell_type": "code",
   "execution_count": 4,
   "metadata": {
    "collapsed": true,
    "deletable": true,
    "editable": true
   },
   "outputs": [],
   "source": [
    "import matplotlib.pyplot as plt\n",
    "import seaborn as sns"
   ]
  },
  {
   "cell_type": "code",
   "execution_count": 5,
   "metadata": {
    "collapsed": true,
    "deletable": true,
    "editable": true
   },
   "outputs": [],
   "source": [
    "a = [0.1, 0.1, 0.2, 0.2, 0.3, 0.4, 0.5, 0.8]"
   ]
  },
  {
   "cell_type": "code",
   "execution_count": 6,
   "metadata": {
    "collapsed": true,
    "deletable": true,
    "editable": true
   },
   "outputs": [],
   "source": [
    "edges = np.linspace(0, max(a)+min(a), num=5)\n",
    "dict_edges = {}\n",
    "dict_count = {}\n",
    "for i,(s,e) in enumerate(zip(edges[:-1], edges[1:])):\n",
    "    dict_edges[i] = (s,e)\n",
    "    dict_count[i] = sum((s< a) & (a <= e))/len(a)"
   ]
  },
  {
   "cell_type": "code",
   "execution_count": 7,
   "metadata": {
    "collapsed": false,
    "deletable": true,
    "editable": true
   },
   "outputs": [
    {
     "data": {
      "text/plain": [
       "{0: 0.5, 1: 0.25, 2: 0.125, 3: 0.125}"
      ]
     },
     "execution_count": 7,
     "metadata": {},
     "output_type": "execute_result"
    }
   ],
   "source": [
    "dict_count"
   ]
  },
  {
   "cell_type": "code",
   "execution_count": 8,
   "metadata": {
    "collapsed": false,
    "deletable": true,
    "editable": true
   },
   "outputs": [
    {
     "data": {
      "text/plain": [
       "{0: (0.0, 0.225), 1: (0.225, 0.45), 2: (0.45, 0.675), 3: (0.675, 0.9)}"
      ]
     },
     "execution_count": 8,
     "metadata": {},
     "output_type": "execute_result"
    }
   ],
   "source": [
    "dict_edges"
   ]
  },
  {
   "cell_type": "code",
   "execution_count": 9,
   "metadata": {
    "collapsed": true,
    "deletable": true,
    "editable": true
   },
   "outputs": [],
   "source": [
    "samples = []\n",
    "n_sample = 3\n",
    "for i, freq in dict_count.items():\n",
    "    n = int(round(n_sample * freq))\n",
    "    s,e = dict_edges[i]\n",
    "    \n",
    "    vals = [x for x in a if ((x > s) and (x <=e))]\n",
    "    samples.append(random.choices(vals, k=n))"
   ]
  },
  {
   "cell_type": "code",
   "execution_count": 10,
   "metadata": {
    "collapsed": false,
    "deletable": true,
    "editable": true
   },
   "outputs": [
    {
     "data": {
      "text/plain": [
       "[0.1, 0.2, 0.4]"
      ]
     },
     "execution_count": 10,
     "metadata": {},
     "output_type": "execute_result"
    }
   ],
   "source": [
    "[x for sublist in samples for x in sublist]"
   ]
  },
  {
   "cell_type": "code",
   "execution_count": 11,
   "metadata": {
    "collapsed": true,
    "deletable": true,
    "editable": true
   },
   "outputs": [],
   "source": [
    "def sample_index_list(a, n_samples, bins=10):\n",
    "    a = list(a)\n",
    "    edges = np.linspace(0, max(a)+min(a), num=bins)\n",
    "    dict_edges = {}\n",
    "    dict_count = {}\n",
    "    for i,(s,e) in enumerate(zip(edges[:-1], edges[1:])):\n",
    "        dict_edges[i] = (s,e)\n",
    "        dict_count[i] = sum((s< a) & (a <= e))/len(a)\n",
    "    samples = []\n",
    "    for i, freq in dict_count.items():\n",
    "        n = int(round(n_samples * freq))\n",
    "        s,e = dict_edges[i]\n",
    "        vals = [a.index(x) for x in a if ((x > s) and (x <=e))]\n",
    "        n_val = random.choices(vals, k=n)\n",
    "        samples.append(n_val)\n",
    "    samples = [x for sublist in samples for x in sublist]\n",
    "    return samples"
   ]
  },
  {
   "cell_type": "code",
   "execution_count": 12,
   "metadata": {
    "collapsed": false,
    "deletable": true,
    "editable": true
   },
   "outputs": [
    {
     "data": {
      "text/plain": [
       "[0, 2]"
      ]
     },
     "execution_count": 12,
     "metadata": {},
     "output_type": "execute_result"
    }
   ],
   "source": [
    "sample_index_list(a, 3)"
   ]
  },
  {
   "cell_type": "code",
   "execution_count": 13,
   "metadata": {
    "collapsed": false,
    "deletable": true,
    "editable": true
   },
   "outputs": [
    {
     "data": {
      "text/plain": [
       "[0.1, 0.2]"
      ]
     },
     "execution_count": 13,
     "metadata": {},
     "output_type": "execute_result"
    }
   ],
   "source": [
    "[a[i] for i in sample_index_list(a,3)]"
   ]
  },
  {
   "cell_type": "code",
   "execution_count": 14,
   "metadata": {
    "collapsed": true,
    "deletable": true,
    "editable": true
   },
   "outputs": [],
   "source": [
    "data = pd.read_csv('../data/iris.csv')"
   ]
  },
  {
   "cell_type": "code",
   "execution_count": 15,
   "metadata": {
    "collapsed": false,
    "deletable": true,
    "editable": true
   },
   "outputs": [
    {
     "data": {
      "text/plain": [
       "0.9541292642221878"
      ]
     },
     "execution_count": 15,
     "metadata": {},
     "output_type": "execute_result"
    }
   ],
   "source": [
    "sample_idx = sample_index_list(data.sepal_length, 30)\n",
    "sample = [data.sepal_length[i] for i in sample_idx]\n",
    "avq = AssessVarQuant(sample, data.sepal_length)\n",
    "\n",
    "avq.evaluate()"
   ]
  },
  {
   "cell_type": "code",
   "execution_count": 16,
   "metadata": {
    "collapsed": false,
    "deletable": true,
    "editable": true
   },
   "outputs": [
    {
     "name": "stdout",
     "output_type": "stream",
     "text": [
      "Step 5\n",
      "Step 10\n",
      "Step 15\n",
      "Step 20\n",
      "Step 25\n",
      "Step 30\n",
      "Step 35\n",
      "Step 40\n",
      "Step 45\n",
      "Step 50\n",
      "Step 55\n",
      "Step 60\n",
      "Step 65\n",
      "Step 70\n",
      "Step 75\n",
      "Step 80\n",
      "Step 85\n",
      "Step 90\n",
      "Step 95\n"
     ]
    }
   ],
   "source": [
    "freq_sampling = []\n",
    "bin_var_sampling =[]\n",
    "rdm_sampling = []\n",
    "bins = []\n",
    "for i in range(5,100, 5):\n",
    "    print('Step %d' % i)\n",
    "    sample_idx = sample_index_list(data.sepal_length, 30)\n",
    "    sample = [data.sepal_length[i] for i in sample_idx]\n",
    "    avq = AssessVarQuant(sample, data.sepal_length)\n",
    "    freq_sampling.append(avq.evaluate())\n",
    "    \n",
    "    for _ in range(3):\n",
    "        bins.append(i)\n",
    "        sample_idx = sample_index_list(data.sepal_length, 30, bins=i)\n",
    "        sample = [data.sepal_length[i] for i in sample_idx]\n",
    "        avq = AssessVarQuant(sample, data.sepal_length)\n",
    "        bin_var_sampling.append(avq.evaluate())\n",
    "    \n",
    "    sample = data.sepal_length.sample(30)\n",
    "    avq = AssessVarQuant(sample, data.sepal_length)\n",
    "    rdm_sampling.append(avq.evaluate())"
   ]
  },
  {
   "cell_type": "code",
   "execution_count": 17,
   "metadata": {
    "collapsed": false,
    "deletable": true,
    "editable": true
   },
   "outputs": [
    {
     "data": {
      "image/png": "[encoded data removed]",
      "text/plain": [
       "<Figure size 432x288 with 1 Axes>"
      ]
     },
     "metadata": {
      "needs_background": "light"
     },
     "output_type": "display_data"
    }
   ],
   "source": [
    "df = pd.DataFrame({'pvals': freq_sampling+rdm_sampling, \n",
    "                   'cat': ['freq_samples']*len(freq_sampling) + ['random_samples']*len(rdm_sampling)})\n",
    "sns.boxplot(x='cat', y='pvals', data=df)\n",
    "plt.show()"
   ]
  },
  {
   "cell_type": "code",
   "execution_count": 18,
   "metadata": {
    "collapsed": false,
    "deletable": true,
    "editable": true
   },
   "outputs": [
    {
     "name": "stderr",
     "output_type": "stream",
     "text": [
      "I:\\Data_repr\\venv\\lib\\site-packages\\scipy\\stats\\stats.py:1713: FutureWarning: Using a non-tuple sequence for multidimensional indexing is deprecated; use `arr[tuple(seq)]` instead of `arr[seq]`. In the future this will be interpreted as an array index, `arr[np.array(seq)]`, which will result either in an error or a different result.\n",
      "  return np.add.reduce(sorted[indexer] * weights, axis=axis) / sumval\n"
     ]
    },
    {
     "data": {
      "image/png": "[encoded data removed]",
      "text/plain": [
       "<Figure size 432x288 with 1 Axes>"
      ]
     },
     "metadata": {
      "needs_background": "light"
     },
     "output_type": "display_data"
    }
   ],
   "source": [
    "df = pd.DataFrame({'pvals': bin_var_sampling, \n",
    "                   'bins': bins})\n",
    "sns.lineplot(x='bins', y='pvals', data=df)\n",
    "plt.show()"
   ]
  },
  {
   "cell_type": "code",
   "execution_count": null,
   "metadata": {
    "collapsed": true,
    "deletable": true,
    "editable": true
   },
   "outputs": [],
   "source": []
  }
 ],
 "metadata": {
  "kernelspec": {
   "display_name": "Python 3.6 (Data Repr)",
   "language": "python",
   "name": "venv"
  },
  "language_info": {
   "codemirror_mode": {
    "name": "ipython",
    "version": 3
   },
   "file_extension": ".py",
   "mimetype": "text/x-python",
   "name": "python",
   "nbconvert_exporter": "python",
   "pygments_lexer": "ipython3",
   "version": "3.6.3"
  }
 },
 "nbformat": 4,
 "nbformat_minor": 2
}
